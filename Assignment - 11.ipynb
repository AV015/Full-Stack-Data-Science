{
 "cells": [
  {
   "cell_type": "markdown",
   "id": "21f929a1",
   "metadata": {},
   "source": [
    "### 1. Create an assert statement that throws an AssertionError if the variable spam is a negative integer."
   ]
  },
  {
   "cell_type": "markdown",
   "id": "c3a0f829",
   "metadata": {},
   "source": [
    "assert spam >= 0, 'The spam variable is greater than 0.'"
   ]
  },
  {
   "cell_type": "markdown",
   "id": "63c9bd3c",
   "metadata": {},
   "source": [
    "### 2. Write an assert statement that triggers an AssertionError if the variables eggs and bacon contain strings that are the same as each other, even if their cases are different (that is, &#39;hello&#39; and &#39;hello&#39; are considered the same, and &#39;goodbye&#39; and &#39;GOODbye&#39; are also considered the same)."
   ]
  },
  {
   "cell_type": "code",
   "execution_count": null,
   "id": "da90d5a6",
   "metadata": {},
   "outputs": [],
   "source": [
    "assert eggs.lower() != bacon.lower(), 'The eggs and bacon variables are the same!' or \n",
    "assert eggs.upper() != bacon.upper(), 'The eggs and bacon variables are the same!'"
   ]
  },
  {
   "cell_type": "markdown",
   "id": "f06b4c30",
   "metadata": {},
   "source": [
    "### 3. Create an assert statement that throws an AssertionError every time."
   ]
  },
  {
   "cell_type": "markdown",
   "id": "07916846",
   "metadata": {},
   "source": [
    "assert False, 'This assertion always triggers.'"
   ]
  },
  {
   "cell_type": "markdown",
   "id": "d89b3eff",
   "metadata": {},
   "source": [
    "### 4. What are the two lines that must be present in your software in order to call logging.debug()?\n"
   ]
  },
  {
   "cell_type": "code",
   "execution_count": null,
   "id": "03e1ee93",
   "metadata": {},
   "outputs": [],
   "source": [
    "To be able to call logging.debug(), you must have these two lines at the start of your program:\n",
    "\n",
    "import logging\n",
    "logging.basicConfig(level=logging.DEBUG, format=' %(asctime)s -\n",
    "%(levelname)s - %(message)s')"
   ]
  },
  {
   "cell_type": "markdown",
   "id": "1a319f2b",
   "metadata": {},
   "source": [
    "### 5. What are the two lines that your program must have in order to have logging.debug() send a logging message to a file named programLog.txt?"
   ]
  },
  {
   "cell_type": "code",
   "execution_count": null,
   "id": "bd7c2399",
   "metadata": {},
   "outputs": [],
   "source": [
    "To be able to send logging messages to a file named programLog.txt with logging.debug(), you must have these two lines at the start of your program:\n",
    "\n",
    "import logging\n",
    "\n",
    "logging.basicConfig(filename='programLog.txt', level=logging.DEBUG,\n",
    "\n",
    "format=' %(asctime)s - %(levelname)s - %(message)s')"
   ]
  },
  {
   "cell_type": "markdown",
   "id": "7559f79a",
   "metadata": {},
   "source": [
    "### 6. What are the five levels of logging?"
   ]
  },
  {
   "cell_type": "markdown",
   "id": "195efdd9",
   "metadata": {},
   "source": [
    "DEBUG, INFO, WARNING, ERROR, and CRITICAL"
   ]
  },
  {
   "cell_type": "markdown",
   "id": "1bb3cf31",
   "metadata": {},
   "source": [
    "### 7. What line of code would you add to your software to disable all logging messages?"
   ]
  },
  {
   "cell_type": "markdown",
   "id": "c2b7e913",
   "metadata": {},
   "source": [
    "logging.disable(logging.CRITICAL)"
   ]
  },
  {
   "cell_type": "markdown",
   "id": "c5441f19",
   "metadata": {},
   "source": [
    "### 8.Why is using logging messages better than using print() to display the same message?"
   ]
  },
  {
   "cell_type": "markdown",
   "id": "4c5614b0",
   "metadata": {},
   "source": [
    "You can disable logging messages without removing the logging function calls. You can selectively disable lower-level logging messages. You can create logging messages. Logging messages provides a timestamp."
   ]
  },
  {
   "cell_type": "markdown",
   "id": "2bad4a16",
   "metadata": {},
   "source": [
    "### 9. What are the differences between the Step Over, Step In, and Step Out buttons in the debugger?"
   ]
  },
  {
   "cell_type": "markdown",
   "id": "ba728c22",
   "metadata": {},
   "source": [
    "The Step button will move the debugger into a function call. The Over button will quickly execute the function call without stepping into it. The Out button will quickly execute the rest of the code until it steps out of the function it currently is in."
   ]
  },
  {
   "cell_type": "markdown",
   "id": "eeddefb9",
   "metadata": {},
   "source": [
    "### 10.After you click Continue, when will the debugger stop ?"
   ]
  },
  {
   "cell_type": "markdown",
   "id": "56f4b211",
   "metadata": {},
   "source": [
    "After you click Go, the debugger will stop when it has reached the end of the program or a line with a breakpoint."
   ]
  },
  {
   "cell_type": "markdown",
   "id": "581f5ff0",
   "metadata": {},
   "source": [
    "### 11. What is the concept of a breakpoint?"
   ]
  },
  {
   "cell_type": "markdown",
   "id": "a07f1ed7",
   "metadata": {},
   "source": [
    "A breakpoint is a setting on a line of code that causes the debugger to pause when the program execution reaches the line."
   ]
  }
 ],
 "metadata": {
  "kernelspec": {
   "display_name": "Python 3 (ipykernel)",
   "language": "python",
   "name": "python3"
  },
  "language_info": {
   "codemirror_mode": {
    "name": "ipython",
    "version": 3
   },
   "file_extension": ".py",
   "mimetype": "text/x-python",
   "name": "python",
   "nbconvert_exporter": "python",
   "pygments_lexer": "ipython3",
   "version": "3.9.10"
  }
 },
 "nbformat": 4,
 "nbformat_minor": 5
}
