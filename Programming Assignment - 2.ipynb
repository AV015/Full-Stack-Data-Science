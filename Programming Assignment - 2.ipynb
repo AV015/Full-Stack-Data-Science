{
 "cells": [
  {
   "cell_type": "markdown",
   "id": "3c9d7f6d",
   "metadata": {},
   "source": [
    "### 1. Write a Python program to convert kilometers to miles?"
   ]
  },
  {
   "cell_type": "code",
   "execution_count": 1,
   "id": "cda0ac99",
   "metadata": {},
   "outputs": [
    {
     "name": "stdout",
     "output_type": "stream",
     "text": [
      "km = 100\n",
      "100.00 km = 62.137 miles\n"
     ]
    }
   ],
   "source": [
    "km = float(input(\"km = \"))\n",
    "convert = 0.621371\n",
    "miles = km * convert\n",
    "print(\"%0.2f km = %0.3f miles\"%(km,miles))"
   ]
  },
  {
   "cell_type": "markdown",
   "id": "b2c727bd",
   "metadata": {},
   "source": [
    "### 2. Write a Python program to convert Celsius to Fahrenheit?"
   ]
  },
  {
   "cell_type": "code",
   "execution_count": 2,
   "id": "f2a99827",
   "metadata": {},
   "outputs": [
    {
     "name": "stdout",
     "output_type": "stream",
     "text": [
      "Celsius = 100\n",
      "\n",
      "100.0 degree Celsius = 212.0 degree Fahrenheit\n"
     ]
    }
   ],
   "source": [
    "celsius = float(input(\"Celsius = \"))\n",
    "\n",
    "fahrenheit = (celsius * 1.8) + 32\n",
    "\n",
    "print('\\n%0.1f degree Celsius = %0.1f degree Fahrenheit' %(celsius,fahrenheit))"
   ]
  },
  {
   "cell_type": "markdown",
   "id": "eccbccbd",
   "metadata": {},
   "source": [
    "### 3. Write a Python program to display calendar?"
   ]
  },
  {
   "cell_type": "code",
   "execution_count": 3,
   "id": "6a948779",
   "metadata": {},
   "outputs": [
    {
     "name": "stdout",
     "output_type": "stream",
     "text": [
      "Year = 2022\n",
      "Month = 5\n",
      "\n",
      "       May 2022\n",
      "Mo Tu We Th Fr Sa Su\n",
      "                   1\n",
      " 2  3  4  5  6  7  8\n",
      " 9 10 11 12 13 14 15\n",
      "16 17 18 19 20 21 22\n",
      "23 24 25 26 27 28 29\n",
      "30 31\n",
      "\n"
     ]
    }
   ],
   "source": [
    "import calendar\n",
    "\n",
    "yy = int(input(\"Year = \"))\n",
    "mm = int(input(\"Month = \"))\n",
    "\n",
    "print(\"\\n\",calendar.month(yy, mm))"
   ]
  },
  {
   "cell_type": "markdown",
   "id": "3a079ae9",
   "metadata": {},
   "source": [
    "### 4. Write a Python program to solve quadratic equation?"
   ]
  },
  {
   "cell_type": "code",
   "execution_count": 4,
   "id": "d440a77e",
   "metadata": {},
   "outputs": [
    {
     "name": "stdout",
     "output_type": "stream",
     "text": [
      "Coefficient of X Square = 1\n",
      "Coefficient of X = 3\n",
      "Constant = -28\n",
      "\n",
      "Solution 1 = 4.0\n",
      "Solution 2 = -7.0\n"
     ]
    }
   ],
   "source": [
    "import math\n",
    "\n",
    "a = int(input(\"Coefficient of X Square = \"))\n",
    "b = int(input(\"Coefficient of X = \"))\n",
    "c = int(input(\"Constant = \"))\n",
    "\n",
    "d = math.sqrt((b**2) - (4*a*c))\n",
    "\n",
    "sol1 = (-b + d) / (2*a)\n",
    "sol2 = (-b - d) / (2*a)\n",
    "\n",
    "print(\"\\nSolution 1 =\",sol1)\n",
    "print(\"Solution 2 =\",sol2)\n"
   ]
  },
  {
   "cell_type": "markdown",
   "id": "b9ddbd70",
   "metadata": {},
   "source": [
    "### 5. Write a Python program to swap two variables without temp variable?"
   ]
  },
  {
   "cell_type": "code",
   "execution_count": 5,
   "id": "163dba66",
   "metadata": {},
   "outputs": [
    {
     "name": "stdout",
     "output_type": "stream",
     "text": [
      "x = 5\n",
      "y = 10\n",
      "\n",
      "x = 10\n",
      "y = 5\n"
     ]
    }
   ],
   "source": [
    "x = int(input(\"x = \"))\n",
    "y = int(input(\"y = \"))\n",
    "\n",
    "x = x+y\n",
    "y = x-y\n",
    "x = x-y\n",
    "\n",
    "print(\"\\nx =\",x)\n",
    "print(\"y =\",y)"
   ]
  }
 ],
 "metadata": {
  "kernelspec": {
   "display_name": "Python 3 (ipykernel)",
   "language": "python",
   "name": "python3"
  },
  "language_info": {
   "codemirror_mode": {
    "name": "ipython",
    "version": 3
   },
   "file_extension": ".py",
   "mimetype": "text/x-python",
   "name": "python",
   "nbconvert_exporter": "python",
   "pygments_lexer": "ipython3",
   "version": "3.9.10"
  }
 },
 "nbformat": 4,
 "nbformat_minor": 5
}
