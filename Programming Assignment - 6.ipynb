{
 "cells": [
  {
   "cell_type": "markdown",
   "id": "094c4833",
   "metadata": {},
   "source": [
    "### 1. Write a Python Program to Display Fibonacci Sequence Using Recursion?"
   ]
  },
  {
   "cell_type": "code",
   "execution_count": 1,
   "id": "b94f43f1",
   "metadata": {},
   "outputs": [
    {
     "name": "stdout",
     "output_type": "stream",
     "text": [
      "No of terms = 5\n",
      "\n",
      "Fibonacci sequence:\n",
      "0\n",
      "1\n",
      "1\n",
      "2\n",
      "3\n"
     ]
    }
   ],
   "source": [
    "no = int(input(\"No of terms = \"))\n",
    "\n",
    "def fibonacci(n):\n",
    "    if n<=1 :\n",
    "        return n\n",
    "    else:\n",
    "        return(fibonacci(n-1) + fibonacci(n-2))\n",
    "\n",
    "if no <= 0:\n",
    "    print(\"Plese enter a positive integer\")\n",
    "else:\n",
    "    print(\"\\nFibonacci sequence:\")\n",
    "    for i in range(no):\n",
    "        print(fibonacci(i))"
   ]
  },
  {
   "cell_type": "markdown",
   "id": "3770881c",
   "metadata": {},
   "source": [
    "### 2. Write a Python Program to Find Factorial of Number Using Recursion?"
   ]
  },
  {
   "cell_type": "code",
   "execution_count": 2,
   "id": "63a8de54",
   "metadata": {},
   "outputs": [
    {
     "name": "stdout",
     "output_type": "stream",
     "text": [
      "No = 5\n",
      "Factorial = 120\n"
     ]
    }
   ],
   "source": [
    "no = int(input(\"No = \"))\n",
    "\n",
    "def factorial(n):\n",
    "    if n == 1:\n",
    "        return n\n",
    "    else:\n",
    "        return n*factorial(n-1)\n",
    "\n",
    "if no < 0:\n",
    "    print(\"Enter positive number\")\n",
    "elif no == 0:\n",
    "    print(\"Factorial = 1\")\n",
    "else:\n",
    "    print(\"Factorial =\",factorial(no))\n"
   ]
  },
  {
   "cell_type": "markdown",
   "id": "0861bb83",
   "metadata": {},
   "source": [
    "### 3. Write a Python Program to calculate your Body Mass Index?"
   ]
  },
  {
   "cell_type": "code",
   "execution_count": 3,
   "id": "00a1021e",
   "metadata": {},
   "outputs": [
    {
     "name": "stdout",
     "output_type": "stream",
     "text": [
      "Height = 1.8\n",
      "Weight = 70\n",
      "\n",
      "bmi = 21.604938271604937\n"
     ]
    }
   ],
   "source": [
    "height = float(input(\"Height = \"))\n",
    "weight = float(input(\"Weight = \"))\n",
    "\n",
    "def bmi(height, weight):\n",
    "    bmi = weight/(height**2)\n",
    "    return bmi\n",
    "\n",
    "print(\"\\nbmi =\",bmi(height, weight))"
   ]
  },
  {
   "cell_type": "markdown",
   "id": "34fb8f93",
   "metadata": {},
   "source": [
    "### 4. Write a Python Program to calculate the natural logarithm of any number?"
   ]
  },
  {
   "cell_type": "code",
   "execution_count": 4,
   "id": "5aa48143",
   "metadata": {},
   "outputs": [
    {
     "name": "stdout",
     "output_type": "stream",
     "text": [
      "No = 2.72\n",
      "log = 1.000631880307906\n"
     ]
    }
   ],
   "source": [
    "import math\n",
    "\n",
    "no = float(input(\"No = \"))\n",
    "\n",
    "print(\"log =\",math.log(no))"
   ]
  },
  {
   "cell_type": "markdown",
   "id": "8c01856d",
   "metadata": {},
   "source": [
    "### 5. Write a Python Program for cube sum of first n natural numbers?"
   ]
  },
  {
   "cell_type": "code",
   "execution_count": 5,
   "id": "a1df5a5d",
   "metadata": {},
   "outputs": [
    {
     "name": "stdout",
     "output_type": "stream",
     "text": [
      "No of terms = 3\n",
      "Sum = 36\n"
     ]
    }
   ],
   "source": [
    "no = int(input(\"No of terms = \"))\n",
    "\n",
    "sum = (((no) * (no+1))//2) ** 2\n",
    "\n",
    "print(\"Sum =\",sum)"
   ]
  }
 ],
 "metadata": {
  "kernelspec": {
   "display_name": "Python 3 (ipykernel)",
   "language": "python",
   "name": "python3"
  },
  "language_info": {
   "codemirror_mode": {
    "name": "ipython",
    "version": 3
   },
   "file_extension": ".py",
   "mimetype": "text/x-python",
   "name": "python",
   "nbconvert_exporter": "python",
   "pygments_lexer": "ipython3",
   "version": "3.9.10"
  }
 },
 "nbformat": 4,
 "nbformat_minor": 5
}
