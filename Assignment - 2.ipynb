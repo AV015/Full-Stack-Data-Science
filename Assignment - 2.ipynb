{
 "cells": [
  {
   "cell_type": "markdown",
   "id": "cc34aebb",
   "metadata": {},
   "source": [
    "### 1.What are the two values of the Boolean data type? How do you write them?\n"
   ]
  },
  {
   "cell_type": "code",
   "execution_count": null,
   "id": "1247dd07",
   "metadata": {},
   "outputs": [],
   "source": [
    "True\n",
    "False"
   ]
  },
  {
   "cell_type": "markdown",
   "id": "a4b1f4b7",
   "metadata": {},
   "source": [
    "### 2. What are the three different types of Boolean operators?"
   ]
  },
  {
   "cell_type": "code",
   "execution_count": null,
   "id": "030c8101",
   "metadata": {},
   "outputs": [],
   "source": [
    "and\n",
    "or\n",
    "not"
   ]
  },
  {
   "cell_type": "markdown",
   "id": "c1b39079",
   "metadata": {},
   "source": [
    "### 3. Make a list of each Boolean operator&#39;s truth tables (i.e. every possible combination of Boolean values for the operator and what it evaluate )."
   ]
  },
  {
   "cell_type": "code",
   "execution_count": null,
   "id": "24c37eba",
   "metadata": {},
   "outputs": [],
   "source": [
    "Truth table\n",
    "\n",
    "and\n",
    "\n",
    "True and True = True\n",
    "True and False = False\n",
    "False and True = False\n",
    "False and False = False\n",
    "\n",
    "or\n",
    "\n",
    "True or True = True\n",
    "True or False = True\n",
    "False or True = True\n",
    "False or False = False\n",
    "\n",
    "not\n",
    "\n",
    "not True = False\n",
    "not False = True\n"
   ]
  },
  {
   "cell_type": "markdown",
   "id": "31487252",
   "metadata": {},
   "source": [
    "### 4. What are the values of the following expressions?\n",
    "### (5 > 4) and (3 == 5)\n",
    "### not (5 > 4)\n",
    "### (5 > 4) or (3 == 5)\n",
    "### not ((5 > 4) or (3 == 5))\n",
    "### (True and True) and (True == False)\n",
    "### (not False) or (not True)"
   ]
  },
  {
   "cell_type": "code",
   "execution_count": 7,
   "id": "248b6e23",
   "metadata": {},
   "outputs": [],
   "source": [
    "(5 > 4) and (3 == 5) -> False\n",
    "\n",
    "not (5 > 4) -> False\n",
    "\n",
    "(5 > 4) or (3 == 5) -> True\n",
    "\n",
    "not ((5 > 4) or (3 == 5)) -> False\n",
    "\n",
    "(True and True) and (True == False) -> False\n",
    "\n",
    "(not False) or (not True) -> True"
   ]
  },
  {
   "cell_type": "markdown",
   "id": "467a4f86",
   "metadata": {},
   "source": [
    "### 5. What are the six comparison operators?"
   ]
  },
  {
   "cell_type": "code",
   "execution_count": null,
   "id": "28350fbf",
   "metadata": {},
   "outputs": [],
   "source": [
    "<\n",
    ">\n",
    "<=\n",
    ">=\n",
    "==\n",
    "!="
   ]
  },
  {
   "cell_type": "markdown",
   "id": "ac265b20",
   "metadata": {},
   "source": [
    "### 6. How do you tell the difference between the equal to and assignment operators?Describe a condition and when you would use one."
   ]
  },
  {
   "cell_type": "code",
   "execution_count": null,
   "id": "0d657201",
   "metadata": {},
   "outputs": [],
   "source": [
    "when we want to compare if two variable contain same value or not then we use Equal to ( == ) operator\n",
    "\n",
    "    ex. 5 == 5 -> True \n",
    "        5 == 6 -> False\n",
    "\n",
    "when we want to store the value then we use assignment ( = )operator\n",
    "    \n",
    "    ex. x = 5"
   ]
  },
  {
   "cell_type": "markdown",
   "id": "bb572bdd",
   "metadata": {},
   "source": [
    "### 7. Identify the three blocks in this code:\n",
    "### spam = 0\n",
    "### if spam == 10:\n",
    "### print('eggs')\n",
    "### if spam > 5:\n",
    "### print('bacon')\n",
    "### else:\n",
    "### print('ham')\n",
    "### print('spam')\n",
    "### print('spam')"
   ]
  },
  {
   "cell_type": "code",
   "execution_count": null,
   "id": "8a0dad01",
   "metadata": {},
   "outputs": [],
   "source": [
    "First condition is False\n",
    "Second condition is False\n",
    "so it will execute else part\n",
    "\n",
    "Output:\n",
    "\n",
    "'ham'\n",
    "'spam'\n",
    "'spam'"
   ]
  },
  {
   "cell_type": "markdown",
   "id": "7565891d",
   "metadata": {},
   "source": [
    "### 8. Write code that prints Hello if 1 is stored in spam, prints Howdy if 2 is stored in spam, and prints Greetings! if anything else is stored in spam."
   ]
  },
  {
   "cell_type": "code",
   "execution_count": null,
   "id": "725580f0",
   "metadata": {},
   "outputs": [],
   "source": [
    "if spam == 1:\n",
    "    print('Hello')\n",
    "elif spam == 2:\n",
    "    print('Howdy')\n",
    "else:\n",
    "    print('Greetings!')"
   ]
  },
  {
   "cell_type": "markdown",
   "id": "5b7f1164",
   "metadata": {},
   "source": [
    "### 9.If your programme is stuck in an endless loop, what keys you’ll press?"
   ]
  },
  {
   "cell_type": "code",
   "execution_count": null,
   "id": "b1d1f7eb",
   "metadata": {},
   "outputs": [],
   "source": [
    "CTRL + C"
   ]
  },
  {
   "cell_type": "markdown",
   "id": "6d7dcc98",
   "metadata": {},
   "source": [
    "### 10. How can you tell the difference between break and continue?\n"
   ]
  },
  {
   "cell_type": "code",
   "execution_count": null,
   "id": "08907d52",
   "metadata": {},
   "outputs": [],
   "source": [
    "The break statement in Python terminates the current loop and resumes execution at the next statement\n",
    "\n",
    "continue statement is opposite to that of break statement, instead of terminating the loop, it forces to execute the next iteration of the loop."
   ]
  },
  {
   "cell_type": "markdown",
   "id": "fb6f835a",
   "metadata": {},
   "source": [
    "### 11. In a for loop, what is the difference between range(10), range(0, 10), and range(0, 10, 1)?"
   ]
  },
  {
   "cell_type": "code",
   "execution_count": null,
   "id": "8923fd06",
   "metadata": {},
   "outputs": [],
   "source": [
    "all three are same\n",
    "\n",
    "range(10) -> 0 to 9 with step size = 1\n",
    "range(0,10) -> 0 to 9 with step size = 1\n",
    "range(0,10,1) -> 0 to 9 with step size = 1"
   ]
  },
  {
   "cell_type": "markdown",
   "id": "88e7f104",
   "metadata": {},
   "source": [
    "### 12. Write a short program that prints the numbers 1 to 10 using a for loop. Then write an equivalent program that prints the numbers 1 to 10 using a while loop."
   ]
  },
  {
   "cell_type": "code",
   "execution_count": 24,
   "id": "8481633a",
   "metadata": {},
   "outputs": [],
   "source": [
    "for i in range(1,11):\n",
    "    print(i)\n",
    "\n",
    "    \n",
    "i=1\n",
    "while(i < 11):\n",
    "    print(i)\n",
    "    i=i+1"
   ]
  },
  {
   "cell_type": "markdown",
   "id": "9e91ef75",
   "metadata": {},
   "source": [
    "### 13. If you had a function named bacon() inside a module named spam, how would you call it after importing spam?"
   ]
  },
  {
   "cell_type": "code",
   "execution_count": null,
   "id": "1d20cbb9",
   "metadata": {},
   "outputs": [],
   "source": [
    "spam.bacon()"
   ]
  }
 ],
 "metadata": {
  "kernelspec": {
   "display_name": "Python 3 (ipykernel)",
   "language": "python",
   "name": "python3"
  },
  "language_info": {
   "codemirror_mode": {
    "name": "ipython",
    "version": 3
   },
   "file_extension": ".py",
   "mimetype": "text/x-python",
   "name": "python",
   "nbconvert_exporter": "python",
   "pygments_lexer": "ipython3",
   "version": "3.9.10"
  }
 },
 "nbformat": 4,
 "nbformat_minor": 5
}
