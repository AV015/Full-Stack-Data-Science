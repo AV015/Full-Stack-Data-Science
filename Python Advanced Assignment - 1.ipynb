{
 "cells": [
  {
   "cell_type": "markdown",
   "id": "a1aeebbb",
   "metadata": {},
   "source": [
    "### 1. What is the purpose of Python&#39;s OOP?"
   ]
  },
  {
   "cell_type": "markdown",
   "id": "67bc76f9",
   "metadata": {},
   "source": [
    "Object-oriented programming: As the name suggests, Object-Oriented Programming or OOPs refers to languages that uses objects in programming. Object-oriented programming aims to implement real-world entities like inheritance, hiding, polymorphism etc in programming. The main aim of OOP is to bind together the data and the functions that operate on them so that no other part of the code can access this data except that function."
   ]
  },
  {
   "cell_type": "markdown",
   "id": "619e51b6",
   "metadata": {},
   "source": [
    "### 2. Where does an inheritance search look for an attribute?"
   ]
  },
  {
   "cell_type": "markdown",
   "id": "d4b0307d",
   "metadata": {},
   "source": [
    "The inheritance search is simply a search of the tree from bottom to top looking for the lowest occurrence of an attribute name.\n",
    "\n"
   ]
  },
  {
   "cell_type": "markdown",
   "id": "89911d37",
   "metadata": {},
   "source": [
    "### 3. How do you distinguish between a class object and an instance object?"
   ]
  },
  {
   "cell_type": "markdown",
   "id": "07a1f03b",
   "metadata": {},
   "source": [
    "Class object : A compound data type that is often used to model a thing or concept in the real world. It bundles together the data and the operations that are relevant for that kind of data. Instance and object are used interchangeably.\n",
    "\n",
    "Instance Object : An object whose type is of some class.\n",
    "\n",
    "An instance is a specific representation of an object. An object is a generic thing while an instance is a single object that has been created in memory"
   ]
  },
  {
   "cell_type": "markdown",
   "id": "210febf3",
   "metadata": {},
   "source": [
    "### 4. What makes the first argument in a class’s method function special?"
   ]
  },
  {
   "cell_type": "markdown",
   "id": "d13fbcb4",
   "metadata": {},
   "source": [
    "In object-oriented programming, whenever we define methods for a class, we use self as the first parameter in each case."
   ]
  },
  {
   "cell_type": "markdown",
   "id": "3d61ebb5",
   "metadata": {},
   "source": [
    "### 5. What is the purpose of the __init__ method?"
   ]
  },
  {
   "cell_type": "markdown",
   "id": "dac75894",
   "metadata": {},
   "source": [
    "\"init\" is a reseved method in python classes. It is called as a constructor in object oriented terminology. This method is called when an object is created from a class and it allows the class to initialize the attributes of the class."
   ]
  },
  {
   "cell_type": "markdown",
   "id": "0a92b23a",
   "metadata": {},
   "source": [
    "### 6. What is the process for creating a class instance?"
   ]
  },
  {
   "cell_type": "markdown",
   "id": "b05d93ce",
   "metadata": {},
   "source": [
    "When you create an object, you are creating an instance of a class, therefore \"instantiating\" a class\n",
    "\n",
    "class Demo :\n",
    "\n",
    "{\n",
    "\n",
    "}\n",
    "\n",
    "d = Demo()"
   ]
  },
  {
   "cell_type": "markdown",
   "id": "772ecef2",
   "metadata": {},
   "source": [
    "### 7. What is the process for creating a class?"
   ]
  },
  {
   "cell_type": "markdown",
   "id": "78746ed2",
   "metadata": {},
   "source": [
    "class definitions begin with a class keyword.\n",
    "\n",
    "class Name:\n",
    "\n",
    "{\n",
    "\n",
    "}"
   ]
  },
  {
   "cell_type": "markdown",
   "id": "6b4cb14b",
   "metadata": {},
   "source": [
    "### 8. How would you define the superclasses of a class?"
   ]
  },
  {
   "cell_type": "markdown",
   "id": "9d3f6458",
   "metadata": {},
   "source": [
    "The super() function returns a parent class object and can be used to access the attributes or methods of the parent class inside the child class."
   ]
  }
 ],
 "metadata": {
  "kernelspec": {
   "display_name": "Python 3 (ipykernel)",
   "language": "python",
   "name": "python3"
  },
  "language_info": {
   "codemirror_mode": {
    "name": "ipython",
    "version": 3
   },
   "file_extension": ".py",
   "mimetype": "text/x-python",
   "name": "python",
   "nbconvert_exporter": "python",
   "pygments_lexer": "ipython3",
   "version": "3.9.10"
  }
 },
 "nbformat": 4,
 "nbformat_minor": 5
}
