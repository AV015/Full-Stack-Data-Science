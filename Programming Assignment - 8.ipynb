{
 "cells": [
  {
   "cell_type": "markdown",
   "id": "ee4feb27",
   "metadata": {},
   "source": [
    "### 1. Write a Python Program to Add Two Matrices?"
   ]
  },
  {
   "cell_type": "code",
   "execution_count": 1,
   "id": "68d9d80c",
   "metadata": {},
   "outputs": [
    {
     "name": "stdout",
     "output_type": "stream",
     "text": [
      "Dimension 1 = 2\n",
      "Dimension 2 = 3\n",
      "\n",
      "Matrix 1 : \n",
      "1\n",
      "2\n",
      "3\n",
      "4\n",
      "5\n",
      "6\n",
      "\n",
      "Matrix 2 :\n",
      "1\n",
      "2\n",
      "3\n",
      "4\n",
      "5\n",
      "6\n",
      "\n",
      "Sum : \n",
      "[2, 4, 6]\n",
      "[8, 10, 12]\n"
     ]
    }
   ],
   "source": [
    "dim1 = int(input(\"Dimension 1 = \"))\n",
    "dim2 = int(input(\"Dimension 2 = \"))\n",
    "\n",
    "tmp = []\n",
    "mat1 = []\n",
    "mat2 = []\n",
    "ans = []\n",
    "\n",
    "print(\"\\nMatrix 1 : \")\n",
    "for i in range(dim1) :\n",
    "    tmp = []\n",
    "    for j in range(dim2) :\n",
    "        tmp.append(int(input()))\n",
    "    mat1.append(tmp)\n",
    "    \n",
    "print(\"\\nMatrix 2 :\")\n",
    "for i in range(dim1) :\n",
    "    tmp = []\n",
    "    for j in range(dim2) :\n",
    "        tmp.append(int(input()))\n",
    "    mat2.append(tmp)\n",
    "        \n",
    "for i in range(dim1) :\n",
    "    tmp = []\n",
    "    for j in range(dim2) :\n",
    "        tmp.append(mat1[i][j] + mat2[i][j])\n",
    "    ans.append(tmp)\n",
    "    \n",
    "print(\"\\nSum : \")    \n",
    "for i in ans :\n",
    "    print(i)"
   ]
  },
  {
   "cell_type": "markdown",
   "id": "2a1064f6",
   "metadata": {},
   "source": [
    "### 2. Write a Python Program to Multiply Two Matrices?"
   ]
  },
  {
   "cell_type": "code",
   "execution_count": 2,
   "id": "014ad5c9",
   "metadata": {},
   "outputs": [
    {
     "name": "stdout",
     "output_type": "stream",
     "text": [
      "Matrix 1 :\n",
      "Dimension 1 = 2\n",
      "Dimension 2 = 3\n",
      "\n",
      "Matrix 2 :\n",
      "Dimension 1 = 3\n",
      "Dimension 2 = 2\n",
      "\n",
      "Matrix 1 : \n",
      "1\n",
      "2\n",
      "3\n",
      "4\n",
      "5\n",
      "6\n",
      "\n",
      "Matrix 2 :\n",
      "1\n",
      "2\n",
      "3\n",
      "4\n",
      "5\n",
      "6\n",
      "\n",
      "Multiply : \n",
      "[22, 28]\n",
      "[49, 64]\n"
     ]
    }
   ],
   "source": [
    "print(\"Matrix 1 :\")\n",
    "m1dim1 = int(input(\"Dimension 1 = \"))\n",
    "m1dim2 = int(input(\"Dimension 2 = \"))\n",
    "ele1 = m1dim1 * m1dim2\n",
    "\n",
    "print(\"\\nMatrix 2 :\")\n",
    "m2dim1 = int(input(\"Dimension 1 = \"))\n",
    "m2dim2 = int(input(\"Dimension 2 = \"))\n",
    "ele2 = m2dim1 * m2dim2\n",
    "\n",
    "tmp = []\n",
    "mat1 = []\n",
    "mat2 = []\n",
    "ans = []\n",
    "\n",
    "if m1dim2 == m2dim1 :\n",
    "    \n",
    "    print(\"\\nMatrix 1 : \")\n",
    "    for i in range(m1dim1) :\n",
    "        tmp = []\n",
    "        for j in range(m1dim2) :\n",
    "            tmp.append(int(input()))\n",
    "        mat1.append(tmp)\n",
    "    \n",
    "    print(\"\\nMatrix 2 :\")\n",
    "    for i in range(m2dim1) :\n",
    "        tmp = []\n",
    "        for j in range(m2dim2) :\n",
    "            tmp.append(int(input()))\n",
    "        mat2.append(tmp)\n",
    "        \n",
    "    for i in range(m1dim1) :\n",
    "        tmp = []\n",
    "        for j in range(m2dim2) :\n",
    "            tmp.append(0)\n",
    "        ans.append(tmp)\n",
    "\n",
    "    for i in range(len(mat1)) :\n",
    "        for j in range(len(mat2[0])):\n",
    "            for k in range(len(mat2)):\n",
    "                ans[i][j] += mat1[i][k] * mat2[k][j]\n",
    "    \n",
    "print(\"\\nMultiply : \")    \n",
    "for i in ans :\n",
    "    print(i)"
   ]
  },
  {
   "cell_type": "markdown",
   "id": "049f0c62",
   "metadata": {},
   "source": [
    "### 3. Write a Python Program to Transpose a Matrix?"
   ]
  },
  {
   "cell_type": "code",
   "execution_count": 3,
   "id": "a11184cf",
   "metadata": {},
   "outputs": [
    {
     "name": "stdout",
     "output_type": "stream",
     "text": [
      "Dimension 1 = 2\n",
      "Dimension 2 = 3\n",
      "1\n",
      "2\n",
      "3\n",
      "4\n",
      "5\n",
      "6\n",
      "\n",
      "Matrix : \n",
      "[1, 2, 3]\n",
      "[4, 5, 6]\n",
      "\n",
      "Transpose : \n",
      "[1, 4]\n",
      "[2, 5]\n",
      "[3, 6]\n"
     ]
    }
   ],
   "source": [
    "dim1 = int(input(\"Dimension 1 = \"))\n",
    "dim2 = int(input(\"Dimension 2 = \"))\n",
    "\n",
    "tmp = []\n",
    "mat = []\n",
    "ans = []\n",
    "\n",
    "for i in range(dim1) :\n",
    "    tmp = []\n",
    "    for j in range(dim2) :\n",
    "        tmp.append(int(input()))\n",
    "    mat.append(tmp)\n",
    "\n",
    "for i in range(dim2) :\n",
    "    tmp = []\n",
    "    for j in range(dim1) :\n",
    "        tmp.append(0)\n",
    "    ans.append(tmp)\n",
    "    \n",
    "for i in range(len(mat)):\n",
    "    for j in range(len(mat[0])):\n",
    "        ans[j][i] = mat[i][j]\n",
    "\n",
    "print('\\nMatrix : ')\n",
    "for i in mat:\n",
    "    print(i)\n",
    "    \n",
    "print('\\nTranspose : ')\n",
    "for i in ans:\n",
    "    print(i)"
   ]
  },
  {
   "cell_type": "markdown",
   "id": "38855aa0",
   "metadata": {},
   "source": [
    "### 4. Write a Python Program to Sort Words in Alphabetic Order?"
   ]
  },
  {
   "cell_type": "code",
   "execution_count": 4,
   "id": "e4f1f808",
   "metadata": {},
   "outputs": [
    {
     "name": "stdout",
     "output_type": "stream",
     "text": [
      "Enter string : Full stack data science 2022\n",
      "\n",
      "['2022', 'Full', 'data', 'science', 'stack']\n"
     ]
    }
   ],
   "source": [
    "words = input(\"Enter string : \")\n",
    "lst = words.split(' ')\n",
    "lst.sort()\n",
    "print('')\n",
    "print(lst)"
   ]
  },
  {
   "cell_type": "markdown",
   "id": "7c848f01",
   "metadata": {},
   "source": [
    "### 5. Write a Python Program to Remove Punctuation From a String?"
   ]
  },
  {
   "cell_type": "code",
   "execution_count": 5,
   "id": "d85ef143",
   "metadata": {},
   "outputs": [
    {
     "name": "stdout",
     "output_type": "stream",
     "text": [
      "Enter string : !ab#@cd*(\n",
      "abcd\n"
     ]
    }
   ],
   "source": [
    "import string\n",
    "\n",
    "words = input(\"Enter string : \")\n",
    "ans = \"\"\n",
    "punc = string.punctuation\n",
    "list(punc)\n",
    "\n",
    "for i in words :\n",
    "    if i not in punc :\n",
    "        ans += i\n",
    "\n",
    "print(ans)"
   ]
  }
 ],
 "metadata": {
  "kernelspec": {
   "display_name": "Python 3 (ipykernel)",
   "language": "python",
   "name": "python3"
  },
  "language_info": {
   "codemirror_mode": {
    "name": "ipython",
    "version": 3
   },
   "file_extension": ".py",
   "mimetype": "text/x-python",
   "name": "python",
   "nbconvert_exporter": "python",
   "pygments_lexer": "ipython3",
   "version": "3.9.10"
  }
 },
 "nbformat": 4,
 "nbformat_minor": 5
}
