{
 "cells": [
  {
   "cell_type": "markdown",
   "id": "5dc3f2e4",
   "metadata": {},
   "source": [
    "### 1. Write a Python program to find words which are greater than given length k?"
   ]
  },
  {
   "cell_type": "code",
   "execution_count": 3,
   "id": "31aebfd6",
   "metadata": {},
   "outputs": [
    {
     "name": "stdout",
     "output_type": "stream",
     "text": [
      "Enter String : full stack data science\n",
      "Enter k : 4\n",
      "\n",
      "stack science\n"
     ]
    }
   ],
   "source": [
    "s = input(\"Enter String : \")\n",
    "k = int(input(\"Enter k : \"))\n",
    "l = []\n",
    "word = s.split()\n",
    "\n",
    "for i in word :\n",
    "    if len(i) > k :\n",
    "        l.append(i)\n",
    "print()\n",
    "print(' '.join(l))"
   ]
  },
  {
   "cell_type": "markdown",
   "id": "55b60b36",
   "metadata": {},
   "source": [
    "### 2. Write a Python program for removing i-th character from a string?"
   ]
  },
  {
   "cell_type": "code",
   "execution_count": 6,
   "id": "ebc55d2d",
   "metadata": {},
   "outputs": [
    {
     "name": "stdout",
     "output_type": "stream",
     "text": [
      "Enter String : Data Science\n",
      "Enter i : 1\n",
      "Dta Science\n"
     ]
    }
   ],
   "source": [
    "s = input(\"Enter String : \")\n",
    "i = int(input(\"Enter i : \"))\n",
    "new = ''\n",
    "\n",
    "for j in range(len(s)) :\n",
    "    if i != j :\n",
    "        new = new + s[j]\n",
    "\n",
    "print(new)"
   ]
  },
  {
   "cell_type": "markdown",
   "id": "d385dc5e",
   "metadata": {},
   "source": [
    "### 3. Write a Python program to split and join a string?"
   ]
  },
  {
   "cell_type": "code",
   "execution_count": 7,
   "id": "c55043d5",
   "metadata": {},
   "outputs": [
    {
     "name": "stdout",
     "output_type": "stream",
     "text": [
      "Enter String : Full Stack Data Science\n",
      "\n",
      "Split : ['Full', 'Stack', 'Data', 'Science']\n",
      "\n",
      "Join : Full-Stack-Data-Science\n"
     ]
    }
   ],
   "source": [
    "s = input(\"Enter String : \")\n",
    "s1 = s.split()\n",
    "print(\"\\nSplit :\",s1)\n",
    "s2 = '-'.join(s1)\n",
    "print(\"\\nJoin :\",s2)"
   ]
  },
  {
   "cell_type": "markdown",
   "id": "f048475a",
   "metadata": {},
   "source": [
    "### 4. Write a Python to check if a given string is binary string or not?"
   ]
  },
  {
   "cell_type": "code",
   "execution_count": 10,
   "id": "7ba54c44",
   "metadata": {},
   "outputs": [
    {
     "name": "stdout",
     "output_type": "stream",
     "text": [
      "Enter String : 10 01\n",
      "\n",
      "Not Binary String\n"
     ]
    }
   ],
   "source": [
    "s = input(\"Enter String : \")\n",
    "c0 = c1 = 0\n",
    "c0 = s.count('0')\n",
    "c1 = s.count('1')\n",
    "ans = c0 + c1\n",
    "\n",
    "if ans == len(s) :\n",
    "    print(\"\\nBinary String\")\n",
    "else :\n",
    "    print(\"\\nNot Binary String\")\n"
   ]
  },
  {
   "cell_type": "markdown",
   "id": "a8df78c2",
   "metadata": {},
   "source": [
    "### 5. Write a Python program to find uncommon words from two Strings?\n"
   ]
  },
  {
   "cell_type": "code",
   "execution_count": 26,
   "id": "ba14ac1a",
   "metadata": {},
   "outputs": [
    {
     "name": "stdout",
     "output_type": "stream",
     "text": [
      "Enter String 1 : Full Stack Data\n",
      "Enter String 2 : Data Science\n"
     ]
    },
    {
     "data": {
      "text/plain": [
       "['Full', 'Stack', 'Science']"
      ]
     },
     "execution_count": 26,
     "metadata": {},
     "output_type": "execute_result"
    }
   ],
   "source": [
    "s1 = input(\"Enter String 1 : \")\n",
    "s2 = input(\"Enter String 2 : \")\n",
    "\n",
    "w1 = s1.split()\n",
    "w2 = s2.split()\n",
    "\n",
    "for i in w2 :\n",
    "    if (i in w1) == True :\n",
    "        w1.remove(i)\n",
    "        w2.remove(i)\n",
    "        \n",
    "w1.extend(w2)\n",
    "w1"
   ]
  },
  {
   "cell_type": "markdown",
   "id": "cb96cfa8",
   "metadata": {},
   "source": [
    "### 6. Write a Python to find all duplicate characters in string?"
   ]
  },
  {
   "cell_type": "code",
   "execution_count": 33,
   "id": "437b3167",
   "metadata": {},
   "outputs": [
    {
     "name": "stdout",
     "output_type": "stream",
     "text": [
      "Enter String : full stack data science\n",
      "\n",
      "{'c', 'a', ' ', 't', 'l', 's', 'e'}\n"
     ]
    }
   ],
   "source": [
    "s = input(\"Enter String : \")\n",
    "l = []\n",
    "for i in range(len(s)) :\n",
    "    if s.count(s[i]) > 1 :\n",
    "        l.append(s[i])\n",
    "print()\n",
    "print(set(l))"
   ]
  },
  {
   "cell_type": "markdown",
   "id": "3d2f8f45",
   "metadata": {},
   "source": [
    "### 7. Write a Python Program to check if a string contains any special character?"
   ]
  },
  {
   "cell_type": "code",
   "execution_count": 35,
   "id": "8df2b6bd",
   "metadata": {},
   "outputs": [
    {
     "name": "stdout",
     "output_type": "stream",
     "text": [
      "Enter string: hello@abc.com\n",
      "The string contains special characters.\n"
     ]
    }
   ],
   "source": [
    "import re\n",
    "\n",
    "string = input('Enter string: ')\n",
    " \n",
    "special_char = re.compile('[@_!#$%^&*()<>?/\\|}{~:]')\n",
    "\n",
    "if(special_char.search(string) == None):\n",
    "    print('String does not contain any special characters.')\n",
    "else:\n",
    "    print('The string contains special characters.')"
   ]
  }
 ],
 "metadata": {
  "kernelspec": {
   "display_name": "Python 3 (ipykernel)",
   "language": "python",
   "name": "python3"
  },
  "language_info": {
   "codemirror_mode": {
    "name": "ipython",
    "version": 3
   },
   "file_extension": ".py",
   "mimetype": "text/x-python",
   "name": "python",
   "nbconvert_exporter": "python",
   "pygments_lexer": "ipython3",
   "version": "3.9.10"
  }
 },
 "nbformat": 4,
 "nbformat_minor": 5
}
