{
 "cells": [
  {
   "cell_type": "markdown",
   "id": "570f6971",
   "metadata": {},
   "source": [
    "### 1. Write a Python Program to Find LCM?"
   ]
  },
  {
   "cell_type": "code",
   "execution_count": 1,
   "id": "47c3b1cc",
   "metadata": {},
   "outputs": [
    {
     "name": "stdout",
     "output_type": "stream",
     "text": [
      "No1 = 12\n",
      "No2 = 24\n",
      "\n",
      "LCM = 24\n"
     ]
    }
   ],
   "source": [
    "x = int(input(\"No1 = \"))\n",
    "y = int(input(\"No2 = \"))\n",
    "\n",
    "def hcf(x, y):\n",
    "    if x > y:\n",
    "        smaller = y\n",
    "    else:\n",
    "        smaller = x\n",
    "    for i in range(1, smaller+1):\n",
    "        if((x % i == 0) and (y % i == 0)):\n",
    "            hcf = i \n",
    "            \n",
    "    return hcf\n",
    "\n",
    "lcm = (x * y)//hcf(x,y)\n",
    "\n",
    "print (\"\\nLCM =\",lcm)"
   ]
  },
  {
   "cell_type": "markdown",
   "id": "bfb2b8e5",
   "metadata": {},
   "source": [
    "### 2. Write a Python Program to Find HCF?"
   ]
  },
  {
   "cell_type": "code",
   "execution_count": 2,
   "id": "af2e1ba8",
   "metadata": {},
   "outputs": [
    {
     "name": "stdout",
     "output_type": "stream",
     "text": [
      "No1 = 12\n",
      "No2 = 24\n",
      "\n",
      "HCF = 12\n"
     ]
    }
   ],
   "source": [
    "x = int(input(\"No1 = \"))\n",
    "y = int(input(\"No2 = \"))\n",
    "\n",
    "def hcf(x, y):\n",
    "    if x > y:\n",
    "        smaller = y\n",
    "    else:\n",
    "        smaller = x\n",
    "    for i in range(1, smaller+1):\n",
    "        if((x % i == 0) and (y % i == 0)):\n",
    "            hcf = i \n",
    "            \n",
    "    return hcf\n",
    "\n",
    "print(\"\\nHCF =\",hcf(x,y))"
   ]
  },
  {
   "cell_type": "markdown",
   "id": "5dc19c22",
   "metadata": {},
   "source": [
    "### 3. Write a Python Program to Convert Decimal to Binary, Octal and Hexadecimal?"
   ]
  },
  {
   "cell_type": "code",
   "execution_count": 3,
   "id": "197aeac9",
   "metadata": {},
   "outputs": [
    {
     "name": "stdout",
     "output_type": "stream",
     "text": [
      "No = 10\n",
      "Binary = 0b1010\n",
      "Octal = 0o12\n",
      "Hexadecimal 0xa\n"
     ]
    }
   ],
   "source": [
    "dec = int(input(\"No = \"))\n",
    "\n",
    "print(\"Binary =\",bin(dec))\n",
    "print(\"Octal =\",oct(dec))\n",
    "print(\"Hexadecimal\",hex(dec))"
   ]
  },
  {
   "cell_type": "markdown",
   "id": "3ca754da",
   "metadata": {},
   "source": [
    "### 4. Write a Python Program To Find ASCII value of a character?"
   ]
  },
  {
   "cell_type": "code",
   "execution_count": 4,
   "id": "927c9439",
   "metadata": {},
   "outputs": [
    {
     "name": "stdout",
     "output_type": "stream",
     "text": [
      "Character = A\n",
      "65\n"
     ]
    }
   ],
   "source": [
    "ch = input(\"Character = \")\n",
    "\n",
    "print(ord(ch))"
   ]
  },
  {
   "cell_type": "markdown",
   "id": "e6d935ab",
   "metadata": {},
   "source": [
    "### 5. Write a Python Program to Make a Simple Calculator with 4 basic mathematical operations?"
   ]
  },
  {
   "cell_type": "code",
   "execution_count": 5,
   "id": "c25fb5de",
   "metadata": {},
   "outputs": [
    {
     "name": "stdout",
     "output_type": "stream",
     "text": [
      "x = 3\n",
      "y = 4\n",
      "\n",
      "Enter operator = /\n",
      "x / y = 0.75\n"
     ]
    }
   ],
   "source": [
    "x = int(input(\"x = \"))\n",
    "y = int(input(\"y = \"))\n",
    "operator = input(\"\\nEnter operator = \")\n",
    "\n",
    "if operator == '+' :\n",
    "    print(\"x + y =\",x+y)\n",
    "\n",
    "elif operator == '-' :\n",
    "    print(\"x - y =\",x-y)\n",
    "\n",
    "elif operator == '*' :\n",
    "    print(\"x * y =\",x*y)\n",
    "    \n",
    "elif operator == '/' :\n",
    "    if y!=0 :\n",
    "        print(\"x / y =\", x/y)\n",
    "    else :\n",
    "        print(\"Divide by zero error\")\n",
    "        \n",
    "else :\n",
    "    print(\"Invalid Operator\")"
   ]
  }
 ],
 "metadata": {
  "kernelspec": {
   "display_name": "Python 3 (ipykernel)",
   "language": "python",
   "name": "python3"
  },
  "language_info": {
   "codemirror_mode": {
    "name": "ipython",
    "version": 3
   },
   "file_extension": ".py",
   "mimetype": "text/x-python",
   "name": "python",
   "nbconvert_exporter": "python",
   "pygments_lexer": "ipython3",
   "version": "3.9.10"
  }
 },
 "nbformat": 4,
 "nbformat_minor": 5
}
