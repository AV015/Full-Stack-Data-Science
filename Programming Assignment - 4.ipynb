{
 "cells": [
  {
   "cell_type": "markdown",
   "id": "c5fec2af",
   "metadata": {},
   "source": [
    "### 1. Write a Python Program to Find the Factorial of a Number?"
   ]
  },
  {
   "cell_type": "code",
   "execution_count": 1,
   "id": "828c568f",
   "metadata": {},
   "outputs": [
    {
     "name": "stdout",
     "output_type": "stream",
     "text": [
      "No of terms = 5\n",
      "120\n"
     ]
    }
   ],
   "source": [
    "no = int(input(\"No of terms = \"))\n",
    "n1 = mul =  1\n",
    "if no < 0 :\n",
    "    print(\"\\Enter positive number\")\n",
    "\n",
    "elif no == 0 :\n",
    "    print(\"1\")\n",
    "\n",
    "else : \n",
    "    for i in range(no,0,-1) :\n",
    "        mul = mul * no\n",
    "        no = no - 1\n",
    "    print(mul)"
   ]
  },
  {
   "cell_type": "markdown",
   "id": "110a8e8d",
   "metadata": {},
   "source": [
    "### 2. Write a Python Program to Display the multiplication Table?"
   ]
  },
  {
   "cell_type": "code",
   "execution_count": 2,
   "id": "b7e69622",
   "metadata": {},
   "outputs": [
    {
     "name": "stdout",
     "output_type": "stream",
     "text": [
      "Enter Number = 5\n",
      "\n",
      "5 * 1 = 5\n",
      "5 * 2 = 10\n",
      "5 * 3 = 15\n",
      "5 * 4 = 20\n",
      "5 * 5 = 25\n",
      "5 * 6 = 30\n",
      "5 * 7 = 35\n",
      "5 * 8 = 40\n",
      "5 * 9 = 45\n",
      "5 * 10 = 50\n"
     ]
    }
   ],
   "source": [
    "no = int(input(\"Enter Number = \"))\n",
    "print(\"\")\n",
    "for i in range(1,11) :\n",
    "    print(\"{} * {} = {}\".format(no,i,(no*i)))"
   ]
  },
  {
   "cell_type": "markdown",
   "id": "9450fd62",
   "metadata": {},
   "source": [
    "### 3. Write a Python Program to Print the Fibonacci sequence?"
   ]
  },
  {
   "cell_type": "code",
   "execution_count": 3,
   "id": "33b6bfeb",
   "metadata": {},
   "outputs": [
    {
     "name": "stdout",
     "output_type": "stream",
     "text": [
      "No of terms = 10\n",
      "1\n",
      "1\n",
      "2\n",
      "3\n",
      "5\n",
      "8\n",
      "13\n",
      "21\n",
      "34\n",
      "55\n"
     ]
    }
   ],
   "source": [
    "no = int(input(\"No of terms = \"))\n",
    "n1 = 0\n",
    "n2 = 1\n",
    "if no <= 0 :\n",
    "    print(\"\\nEnter positive number\")\n",
    "\n",
    "elif no == 1 :\n",
    "    print(\"1\")\n",
    "\n",
    "else : \n",
    "    for i in range(1,no+1) :\n",
    "        print(n2)\n",
    "        sum = n1 + n2\n",
    "        n1 = n2\n",
    "        n2 = sum"
   ]
  },
  {
   "cell_type": "markdown",
   "id": "1228e0f6",
   "metadata": {},
   "source": [
    "### 4. Write a Python Program to Check Armstrong Number?"
   ]
  },
  {
   "cell_type": "code",
   "execution_count": 4,
   "id": "ff60beda",
   "metadata": {},
   "outputs": [
    {
     "name": "stdout",
     "output_type": "stream",
     "text": [
      "No = 407\n",
      "It is armstrong number\n"
     ]
    }
   ],
   "source": [
    "temp = no = int(input(\"No = \"))\n",
    "length = len(str(no))\n",
    "sum = 0\n",
    "\n",
    "for i in range(1,length+1) :\n",
    "    digit = no % 10\n",
    "    sum = sum + (digit ** length)\n",
    "    no = no // 10\n",
    "\n",
    "if temp == sum :\n",
    "    print(\"It is armstrong number\")\n",
    "\n",
    "else : \n",
    "    print(\"It is not armstrong number\")"
   ]
  },
  {
   "cell_type": "markdown",
   "id": "b67bd5a4",
   "metadata": {},
   "source": [
    "### 5. Write a Python Program to Find Armstrong Number in an Interval?"
   ]
  },
  {
   "cell_type": "code",
   "execution_count": 5,
   "id": "ee99501d",
   "metadata": {},
   "outputs": [
    {
     "name": "stdout",
     "output_type": "stream",
     "text": [
      "Enter lower no = 1\n",
      "Enter upper no = 1000\n",
      "\n",
      "1\n",
      "2\n",
      "3\n",
      "4\n",
      "5\n",
      "6\n",
      "7\n",
      "8\n",
      "9\n",
      "153\n",
      "370\n",
      "371\n",
      "407\n"
     ]
    }
   ],
   "source": [
    "lower = int(input(\"Enter lower no = \"))\n",
    "upper = int(input(\"Enter upper no = \"))\n",
    "\n",
    "if (lower < upper) and (lower > 0) and (upper > 0) :\n",
    "    print(\"\")\n",
    "    for no in range(lower,upper+1) :\n",
    "        length = len(str(no))\n",
    "        temp = no\n",
    "        sum = 0\n",
    "        for i in range(1,length+1) :\n",
    "            digit = no % 10\n",
    "            sum = sum + (digit ** length)\n",
    "            no = no // 10\n",
    "\n",
    "        if temp == sum :\n",
    "            print(temp)"
   ]
  },
  {
   "cell_type": "markdown",
   "id": "95e70431",
   "metadata": {},
   "source": [
    "### 6. Write a Python Program to Find the Sum of Natural Numbers?"
   ]
  },
  {
   "cell_type": "code",
   "execution_count": 6,
   "id": "9bdf34f8",
   "metadata": {},
   "outputs": [
    {
     "name": "stdout",
     "output_type": "stream",
     "text": [
      "No = 3\n",
      "Sum = 6\n"
     ]
    }
   ],
   "source": [
    "no = int(input(\"No = \"))\n",
    "sum = int((no * (no+1)) / 2)\n",
    "print(\"Sum =\",sum)   "
   ]
  }
 ],
 "metadata": {
  "kernelspec": {
   "display_name": "Python 3 (ipykernel)",
   "language": "python",
   "name": "python3"
  },
  "language_info": {
   "codemirror_mode": {
    "name": "ipython",
    "version": 3
   },
   "file_extension": ".py",
   "mimetype": "text/x-python",
   "name": "python",
   "nbconvert_exporter": "python",
   "pygments_lexer": "ipython3",
   "version": "3.9.10"
  }
 },
 "nbformat": 4,
 "nbformat_minor": 5
}
