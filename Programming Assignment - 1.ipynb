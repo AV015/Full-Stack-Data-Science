{
 "cells": [
  {
   "cell_type": "markdown",
   "id": "67f2ee9c",
   "metadata": {},
   "source": [
    "### 1. Write a Python program to print &quot;Hello Python&quot;?"
   ]
  },
  {
   "cell_type": "code",
   "execution_count": 1,
   "id": "25e38bcf",
   "metadata": {},
   "outputs": [
    {
     "name": "stdout",
     "output_type": "stream",
     "text": [
      "Hello Python\n"
     ]
    }
   ],
   "source": [
    "print(\"Hello Python\")"
   ]
  },
  {
   "cell_type": "markdown",
   "id": "a65e3f1b",
   "metadata": {},
   "source": [
    "### 2. Write a Python program to do arithmetical operations addition and division.?"
   ]
  },
  {
   "cell_type": "code",
   "execution_count": 2,
   "id": "9c12ee44",
   "metadata": {},
   "outputs": [
    {
     "name": "stdout",
     "output_type": "stream",
     "text": [
      "x = 10\n",
      "y = 5\n",
      "\n",
      "x + y = 15\n",
      "x / y = 2.0\n"
     ]
    }
   ],
   "source": [
    "x = int(input(\"x = \"))\n",
    "y = int(input(\"y = \"))\n",
    "\n",
    "print(\"\\nx + y =\", x+y)\n",
    "\n",
    "if y!= 0 :\n",
    "    print(\"x / y =\", x/y)\n",
    "else :\n",
    "    print(\"\\nDivide By Zero Error\")"
   ]
  },
  {
   "cell_type": "markdown",
   "id": "ce65e513",
   "metadata": {},
   "source": [
    "##### 3. Write a Python program to find the area of a triangle?"
   ]
  },
  {
   "cell_type": "code",
   "execution_count": 3,
   "id": "0cfd2485",
   "metadata": {},
   "outputs": [
    {
     "name": "stdout",
     "output_type": "stream",
     "text": [
      "Length = 5\n",
      "Width = 5\n",
      "Height = 5\n",
      "\n",
      "Area = 125\n"
     ]
    }
   ],
   "source": [
    "l = int(input(\"Length = \"))\n",
    "b = int(input(\"Width = \"))\n",
    "h = int(input(\"Height = \"))\n",
    "\n",
    "if l<0 or b<0 or h<0 :\n",
    "    print(\"\\nPlease Enter Positive Number\")\n",
    "else :\n",
    "    area = l * b * h\n",
    "    print(\"\\nArea =\",area)"
   ]
  },
  {
   "cell_type": "markdown",
   "id": "efee6329",
   "metadata": {},
   "source": [
    "### 4. Write a Python program to swap two variables?\n"
   ]
  },
  {
   "cell_type": "code",
   "execution_count": 4,
   "id": "096928b2",
   "metadata": {},
   "outputs": [
    {
     "name": "stdout",
     "output_type": "stream",
     "text": [
      "x = 1\n",
      "y = 2\n",
      "\n",
      "After Swapping\n",
      "\n",
      "x = 2\n",
      "y = 1\n"
     ]
    }
   ],
   "source": [
    "x = int(input(\"x = \"))\n",
    "y = int(input(\"y = \"))\n",
    "\n",
    "temp = x\n",
    "x = y\n",
    "y = temp\n",
    "\n",
    "print(\"\\nAfter Swapping\\n\")\n",
    "print(\"x =\",x)\n",
    "print(\"y =\",y)"
   ]
  },
  {
   "cell_type": "markdown",
   "id": "8339938b",
   "metadata": {},
   "source": [
    "### 5. Write a Python program to generate a random number?\n"
   ]
  },
  {
   "cell_type": "code",
   "execution_count": 5,
   "id": "22f52d37",
   "metadata": {},
   "outputs": [
    {
     "name": "stdout",
     "output_type": "stream",
     "text": [
      "Enter lower value = 1\n",
      "Enter upper value = 100\n",
      "\n",
      "Random No =  90\n"
     ]
    }
   ],
   "source": [
    "import random\n",
    "\n",
    "x = int(input(\"Enter lower value = \"))\n",
    "y = int(input(\"Enter upper value = \"))\n",
    "\n",
    "print(\"\\nRandom No = \",random.randint(x,y))"
   ]
  }
 ],
 "metadata": {
  "kernelspec": {
   "display_name": "Python 3 (ipykernel)",
   "language": "python",
   "name": "python3"
  },
  "language_info": {
   "codemirror_mode": {
    "name": "ipython",
    "version": 3
   },
   "file_extension": ".py",
   "mimetype": "text/x-python",
   "name": "python",
   "nbconvert_exporter": "python",
   "pygments_lexer": "ipython3",
   "version": "3.9.10"
  }
 },
 "nbformat": 4,
 "nbformat_minor": 5
}
