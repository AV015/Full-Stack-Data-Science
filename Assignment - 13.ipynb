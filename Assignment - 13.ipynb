{
 "cells": [
  {
   "cell_type": "markdown",
   "id": "9961f45c",
   "metadata": {},
   "source": [
    "### 1. What advantages do Excel spreadsheets have over CSV spreadsheets?"
   ]
  },
  {
   "cell_type": "markdown",
   "id": "a061ebd1",
   "metadata": {},
   "source": [
    "In Excel, spreadsheets can have values of datatypes other than strings; cells can have different fonts, sizes, or color settings; cells can have varying widths and heights; adjecent cells can be merged; and we can embed images and charts."
   ]
  },
  {
   "cell_type": "markdown",
   "id": "906417f5",
   "metadata": {},
   "source": [
    "### 2.What do you pass to csv.reader() and csv.writer() to create reader and writer objects?"
   ]
  },
  {
   "cell_type": "markdown",
   "id": "802fc63e",
   "metadata": {},
   "source": [
    "We pass a file object, obtained from call to open()."
   ]
  },
  {
   "cell_type": "markdown",
   "id": "8797d005",
   "metadata": {},
   "source": [
    "### 3. What modes do File objects for reader and writer objects need to be opened in?\n"
   ]
  },
  {
   "cell_type": "markdown",
   "id": "ee3cfb93",
   "metadata": {},
   "source": [
    "File objects need to be opened in read-binary ('rb') for reader objects and write-binary ('wb') fro writer objects.\n",
    "\n"
   ]
  },
  {
   "cell_type": "markdown",
   "id": "b14c3342",
   "metadata": {},
   "source": [
    "### 4. What method takes a list argument and writes it to a CSV file?"
   ]
  },
  {
   "cell_type": "markdown",
   "id": "f367a6a4",
   "metadata": {},
   "source": [
    "The writerrow() method."
   ]
  },
  {
   "cell_type": "markdown",
   "id": "e9c71310",
   "metadata": {},
   "source": [
    "### 5. What do the keyword arguments delimiter and line terminator do?"
   ]
  },
  {
   "cell_type": "markdown",
   "id": "e3bc8127",
   "metadata": {},
   "source": [
    "The delimeter argument change the string used to separate cells in a row. The lineterminator argument changes the string used to separate rows.\n",
    "\n"
   ]
  },
  {
   "cell_type": "markdown",
   "id": "93ccd534",
   "metadata": {},
   "source": [
    "### 6. What function takes a string of JSON data and returns a Python data structure?"
   ]
  },
  {
   "cell_type": "markdown",
   "id": "abd6e122",
   "metadata": {},
   "source": [
    "json.loads()"
   ]
  },
  {
   "cell_type": "markdown",
   "id": "08278dcb",
   "metadata": {},
   "source": [
    "### 7. What function takes a Python data structure and returns a string of JSON data?"
   ]
  },
  {
   "cell_type": "markdown",
   "id": "b93a72fa",
   "metadata": {},
   "source": [
    "json.dumps()\n"
   ]
  }
 ],
 "metadata": {
  "kernelspec": {
   "display_name": "Python 3 (ipykernel)",
   "language": "python",
   "name": "python3"
  },
  "language_info": {
   "codemirror_mode": {
    "name": "ipython",
    "version": 3
   },
   "file_extension": ".py",
   "mimetype": "text/x-python",
   "name": "python",
   "nbconvert_exporter": "python",
   "pygments_lexer": "ipython3",
   "version": "3.9.10"
  }
 },
 "nbformat": 4,
 "nbformat_minor": 5
}
