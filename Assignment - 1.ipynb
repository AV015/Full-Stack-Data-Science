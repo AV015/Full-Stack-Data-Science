{
 "cells": [
  {
   "cell_type": "markdown",
   "id": "fdbc6b11",
   "metadata": {},
   "source": [
    "### 1. In the below elements which of them are values or an expression? eg:- values can be integer or string and expressions will be mathematical operators.\n",
    "### *\n",
    "### 'hello'\n",
    "### -87.8\n",
    "### -\n",
    "### /\n",
    "### +\n",
    "### 6"
   ]
  },
  {
   "cell_type": "code",
   "execution_count": null,
   "id": "538d3425",
   "metadata": {},
   "outputs": [],
   "source": [
    "*       -> Expression\n",
    "'hello' -> Value\n",
    "-87.8   -> Value\n",
    "-       -> Expression\n",
    "/       -> Expression\n",
    "+       -> Expression\n",
    "6       -> Value"
   ]
  },
  {
   "cell_type": "markdown",
   "id": "25fa2ecf",
   "metadata": {},
   "source": [
    "### 2. What is the difference between string and variable?"
   ]
  },
  {
   "cell_type": "code",
   "execution_count": null,
   "id": "cf7c030f",
   "metadata": {},
   "outputs": [],
   "source": [
    "String \n",
    "\n",
    "-> It is surrounded by single or double quotes\n",
    "-> It is sequence of characters\n",
    "-> It represents Simple Text data\n",
    "-> It is immutable\n",
    "\n",
    "Varible\n",
    "\n",
    "-> It stores various types of data like integer,double,string,address of object etc\n",
    "-> It is mutable\n"
   ]
  },
  {
   "cell_type": "markdown",
   "id": "530ecee0",
   "metadata": {},
   "source": [
    "### 3. Describe three different data types."
   ]
  },
  {
   "cell_type": "code",
   "execution_count": null,
   "id": "ed22201a",
   "metadata": {},
   "outputs": [],
   "source": [
    "1. Integer\n",
    "\n",
    " -> It is a whole number, positive or negative, without decimals\n",
    "     ex. 100, -9, 0 etc.\n",
    " \n",
    "2. Float\n",
    "\n",
    "    -> It represents floating point number ( contain decimal point )\n",
    "        ex. -134.5, 1.0, 9.999 etc.\n",
    "        \n",
    "    -> It also represent scientific numbers with an \"e\" to indicate the power of 10.\n",
    "        ex. 5e4, 9E7, -199e5\n",
    "       \n",
    "    \n",
    "3. Complex\n",
    "\n",
    "    -> It represent Imaginary number\n",
    "    \n",
    "    -> It is written with a \"j\" as the imaginary part\n",
    "        ex. 7+5j, 9j, -7j\n",
    "    \n",
    "4. Boolean\n",
    "\n",
    "    -> It represent one of two values - True or False\n",
    "    \n",
    "    -> True is equal to 1 & False is equal to 0\n",
    "    \n",
    "    \n",
    "5. String\n",
    "\n",
    "    -> It is surrounded by single or double quotes\n",
    "    \n",
    "    -> It is sequence of characters\n",
    "\n",
    "    -> It is immutable\n",
    "    \n",
    "        ex. \"FSDS\", 'FSDS', \"It's FSDS class\"\n",
    "        \n",
    "6. List\n",
    "\n",
    "    -> It is used to store multiple items in a single variable\n",
    "    \n",
    "    -> List items are ordered, changeable, and allow duplicate values\n",
    "    \n",
    "    -> It is written with square brackets.\n",
    "    \n",
    "    -> List items are indexed, the first item has index [0], the second item has index [1] etc.\n",
    "    \n",
    "        ex. mylist = [1, \"FSDS\", [\"Hello\",5,(10,20)], ('Data','Science'), \"FSDS\"]\n",
    "        \n",
    "7. Tuple\n",
    "\n",
    "    -> It is used to store multiple items in a single variable.\n",
    "    \n",
    "    -> It is a collection which is ordered and unchangeable.\n",
    "    \n",
    "    -> It is written with round brackets.\n",
    "    \n",
    "    -> Tuple items are indexed, the first item has index [0], the second item has index [1] etc.\n",
    "    \n",
    "        ex. mytuple = (1,\"FSDS\", \"FSDS\", ['Hello', 'World'])\n",
    "\n",
    "8. Dictionary\n",
    "\n",
    "    -> It is used to store data values in key:value pairs\n",
    "    \n",
    "    -> It is written with curly brackets, and have keys and values\n",
    "\n",
    "    -> Dictionary items are ordered, changeable, and does not allow duplicates.\n",
    "\n",
    "        ex. mydictionary = {\n",
    "                                \"course\" : \"FSDS\"\n",
    "                                \"year\" : 2022\n",
    "                            }\n",
    "    \n",
    "    \n",
    "9. Set\n",
    "\n",
    "    -> Set items are unordered, unchangeable, and do not allow duplicate values.\n",
    "    \n",
    "    -> It is written with curly brackets\n",
    "    \n",
    "        ex. myset = {1,2,3,\"Hello\",\"World\"}"
   ]
  },
  {
   "cell_type": "markdown",
   "id": "ada9ce84",
   "metadata": {},
   "source": [
    "### 4. What is an expression made up of? What do all expressions do?"
   ]
  },
  {
   "cell_type": "code",
   "execution_count": null,
   "id": "60f2fb7e",
   "metadata": {},
   "outputs": [],
   "source": [
    "-> It is a combination of operators and operands that is interpreted to produce some other value\n",
    "\n",
    "-> It is evaluated as per the precedence of its operators. So that if there is more than one operator in an     expression, their precedence decides which operation will be performed first.\n"
   ]
  },
  {
   "cell_type": "markdown",
   "id": "23d6307f",
   "metadata": {},
   "source": [
    "### 5. This assignment statements, like spam = 10. What is the difference between an expression and a statement?"
   ]
  },
  {
   "cell_type": "code",
   "execution_count": null,
   "id": "cf3206af",
   "metadata": {},
   "outputs": [],
   "source": [
    "spam = 10 \n",
    "\n",
    "-> It is statement\n",
    "\n",
    "-> Statement doesn't necessarily return value\n",
    "    \n",
    "-> Expressions are part of statements and evaluated by compiler\n",
    "\n",
    "    ex. 100 + 5 * 2 is expression\n",
    "        O/P : 110"
   ]
  },
  {
   "cell_type": "markdown",
   "id": "9a6651a9",
   "metadata": {},
   "source": [
    "### 6. After running the following code, what does the variable bacon contain?\n",
    "### bacon = 22\n",
    "### bacon + 1"
   ]
  },
  {
   "cell_type": "code",
   "execution_count": null,
   "id": "a80df3ae",
   "metadata": {},
   "outputs": [],
   "source": [
    "22\n",
    "\n",
    "because reassignment didn't happen so it can't be 23 but it is 22.\n",
    "\n",
    "if bacon = bacon + 1\n",
    "then O/P will be 23"
   ]
  },
  {
   "cell_type": "markdown",
   "id": "9a559aee",
   "metadata": {},
   "source": [
    "### 7. What should the values of the following two terms be?\n",
    "### 'spam' + 'spamspam'\n",
    "### 'spam' * 3"
   ]
  },
  {
   "cell_type": "code",
   "execution_count": null,
   "id": "9e0f48ca",
   "metadata": {},
   "outputs": [],
   "source": [
    "'spam' + 'spamspam' -> 'spamspamspam'\n",
    "'spam' * 3 -> 'spamspamspam'"
   ]
  },
  {
   "cell_type": "markdown",
   "id": "67b9827c",
   "metadata": {},
   "source": [
    "### 8. Why is eggs a valid variable name while 100 is invalid?"
   ]
  },
  {
   "cell_type": "code",
   "execution_count": null,
   "id": "2e7bd55d",
   "metadata": {},
   "outputs": [],
   "source": [
    "-> A variable name must start with a letter or the underscore character\n",
    "-> A variable name cannot start with a number\n",
    "-> A variable name can only contain alpha-numeric characters and underscores"
   ]
  },
  {
   "cell_type": "markdown",
   "id": "c85e7825",
   "metadata": {},
   "source": [
    "### 9. What three functions can be used to get the integer, floating-point number, or string version of a value?"
   ]
  },
  {
   "cell_type": "code",
   "execution_count": null,
   "id": "c0833747",
   "metadata": {},
   "outputs": [],
   "source": [
    "int() , float() , str()"
   ]
  },
  {
   "cell_type": "markdown",
   "id": "66354d65",
   "metadata": {},
   "source": [
    "### 10. Why does this expression cause an error? How can you fix it?\n",
    "### 'I have eaten ' + 99 + ' burritos.'"
   ]
  },
  {
   "cell_type": "code",
   "execution_count": null,
   "id": "0e6fa032",
   "metadata": {},
   "outputs": [],
   "source": [
    "'I have eaten ' + 99 + ' burritos.'\n",
    "\n",
    "TypeError: can only concatenate str (not \"int\") to str\n",
    "\n",
    "We can fix by ...\n",
    "\n",
    "'I have eaten ' + '99' + ' burritos.'\n",
    "\n",
    "Output : 'I have eaten 99 burritos.'"
   ]
  }
 ],
 "metadata": {
  "kernelspec": {
   "display_name": "Python 3 (ipykernel)",
   "language": "python",
   "name": "python3"
  },
  "language_info": {
   "codemirror_mode": {
    "name": "ipython",
    "version": 3
   },
   "file_extension": ".py",
   "mimetype": "text/x-python",
   "name": "python",
   "nbconvert_exporter": "python",
   "pygments_lexer": "ipython3",
   "version": "3.9.10"
  }
 },
 "nbformat": 4,
 "nbformat_minor": 5
}
